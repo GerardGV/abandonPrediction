{
 "cells": [
  {
   "cell_type": "code",
   "execution_count": 61,
   "outputs": [],
   "source": [
    "import pandas as pd\n",
    "import seaborn as sns\n",
    "import csv\n",
    "from sklearn.preprocessing import OneHotEncoder, LabelEncoder\n",
    "from sklearn.preprocessing import StandardScaler\n",
    "from sklearn.decomposition import PCA\n",
    "path=\"dataset.csv\""
   ],
   "metadata": {
    "collapsed": false,
    "ExecuteTime": {
     "start_time": "2023-12-21T01:09:05.407849Z",
     "end_time": "2023-12-21T01:09:07.524967Z"
    }
   }
  },
  {
   "cell_type": "markdown",
   "source": [
    "## DATA CLEANING"
   ],
   "metadata": {
    "collapsed": false
   }
  },
  {
   "cell_type": "markdown",
   "source": [
    "To detect automatically the delimiter or separator, it is specified that separator is equal to None to make python find it. See the explanation of sep parameter on:\n",
    "https://pandas.pydata.org/pandas-docs/stable/reference/api/pandas.read_csv.html"
   ],
   "metadata": {
    "collapsed": false
   }
  },
  {
   "cell_type": "code",
   "execution_count": 9,
   "outputs": [],
   "source": [
    "dataset=pd.read_csv(path, sep=None, engine=\"python\")"
   ],
   "metadata": {
    "collapsed": false,
    "ExecuteTime": {
     "start_time": "2023-12-20T14:26:23.876385Z",
     "end_time": "2023-12-20T14:26:28.826182Z"
    }
   }
  },
  {
   "cell_type": "code",
   "execution_count": 10,
   "outputs": [
    {
     "data": {
      "text/plain": "  rev_Mean mou_Mean totmrc_Mean da_Mean ovrmou_Mean ovrrev_Mean vceovr_Mean  \\\n0  23,9975   219,25        22,5  0,2475           0           0           0   \n1  57,4925   482,75      37,425  0,2475       22,75         9,1         9,1   \n2    16,99    10,25       16,99       0           0           0           0   \n3       38      7,5          38       0           0           0           0   \n4    55,23    570,5       71,98       0           0           0           0   \n\n  datovr_Mean roam_Mean change_mou  ... forgntvl ethnic kid0_2 kid3_5 kid6_10  \\\n0           0         0    -157,25  ...      0.0      N      U      U       U   \n1           0         0     532,25  ...      0.0      Z      U      U       U   \n2           0         0      -4,25  ...      0.0      N      U      Y       U   \n3           0         0       -1,5  ...      0.0      U      Y      U       U   \n4           0         0       38,5  ...      0.0      I      U      U       U   \n\n  kid11_15 kid16_17 creditcd eqpdays Customer_ID  \n0        U        U        Y   361.0     1000001  \n1        U        U        Y   240.0     1000002  \n2        U        U        Y  1504.0     1000003  \n3        U        U        Y  1812.0     1000004  \n4        U        U        Y   434.0     1000005  \n\n[5 rows x 100 columns]",
      "text/html": "<div>\n<style scoped>\n    .dataframe tbody tr th:only-of-type {\n        vertical-align: middle;\n    }\n\n    .dataframe tbody tr th {\n        vertical-align: top;\n    }\n\n    .dataframe thead th {\n        text-align: right;\n    }\n</style>\n<table border=\"1\" class=\"dataframe\">\n  <thead>\n    <tr style=\"text-align: right;\">\n      <th></th>\n      <th>rev_Mean</th>\n      <th>mou_Mean</th>\n      <th>totmrc_Mean</th>\n      <th>da_Mean</th>\n      <th>ovrmou_Mean</th>\n      <th>ovrrev_Mean</th>\n      <th>vceovr_Mean</th>\n      <th>datovr_Mean</th>\n      <th>roam_Mean</th>\n      <th>change_mou</th>\n      <th>...</th>\n      <th>forgntvl</th>\n      <th>ethnic</th>\n      <th>kid0_2</th>\n      <th>kid3_5</th>\n      <th>kid6_10</th>\n      <th>kid11_15</th>\n      <th>kid16_17</th>\n      <th>creditcd</th>\n      <th>eqpdays</th>\n      <th>Customer_ID</th>\n    </tr>\n  </thead>\n  <tbody>\n    <tr>\n      <th>0</th>\n      <td>23,9975</td>\n      <td>219,25</td>\n      <td>22,5</td>\n      <td>0,2475</td>\n      <td>0</td>\n      <td>0</td>\n      <td>0</td>\n      <td>0</td>\n      <td>0</td>\n      <td>-157,25</td>\n      <td>...</td>\n      <td>0.0</td>\n      <td>N</td>\n      <td>U</td>\n      <td>U</td>\n      <td>U</td>\n      <td>U</td>\n      <td>U</td>\n      <td>Y</td>\n      <td>361.0</td>\n      <td>1000001</td>\n    </tr>\n    <tr>\n      <th>1</th>\n      <td>57,4925</td>\n      <td>482,75</td>\n      <td>37,425</td>\n      <td>0,2475</td>\n      <td>22,75</td>\n      <td>9,1</td>\n      <td>9,1</td>\n      <td>0</td>\n      <td>0</td>\n      <td>532,25</td>\n      <td>...</td>\n      <td>0.0</td>\n      <td>Z</td>\n      <td>U</td>\n      <td>U</td>\n      <td>U</td>\n      <td>U</td>\n      <td>U</td>\n      <td>Y</td>\n      <td>240.0</td>\n      <td>1000002</td>\n    </tr>\n    <tr>\n      <th>2</th>\n      <td>16,99</td>\n      <td>10,25</td>\n      <td>16,99</td>\n      <td>0</td>\n      <td>0</td>\n      <td>0</td>\n      <td>0</td>\n      <td>0</td>\n      <td>0</td>\n      <td>-4,25</td>\n      <td>...</td>\n      <td>0.0</td>\n      <td>N</td>\n      <td>U</td>\n      <td>Y</td>\n      <td>U</td>\n      <td>U</td>\n      <td>U</td>\n      <td>Y</td>\n      <td>1504.0</td>\n      <td>1000003</td>\n    </tr>\n    <tr>\n      <th>3</th>\n      <td>38</td>\n      <td>7,5</td>\n      <td>38</td>\n      <td>0</td>\n      <td>0</td>\n      <td>0</td>\n      <td>0</td>\n      <td>0</td>\n      <td>0</td>\n      <td>-1,5</td>\n      <td>...</td>\n      <td>0.0</td>\n      <td>U</td>\n      <td>Y</td>\n      <td>U</td>\n      <td>U</td>\n      <td>U</td>\n      <td>U</td>\n      <td>Y</td>\n      <td>1812.0</td>\n      <td>1000004</td>\n    </tr>\n    <tr>\n      <th>4</th>\n      <td>55,23</td>\n      <td>570,5</td>\n      <td>71,98</td>\n      <td>0</td>\n      <td>0</td>\n      <td>0</td>\n      <td>0</td>\n      <td>0</td>\n      <td>0</td>\n      <td>38,5</td>\n      <td>...</td>\n      <td>0.0</td>\n      <td>I</td>\n      <td>U</td>\n      <td>U</td>\n      <td>U</td>\n      <td>U</td>\n      <td>U</td>\n      <td>Y</td>\n      <td>434.0</td>\n      <td>1000005</td>\n    </tr>\n  </tbody>\n</table>\n<p>5 rows × 100 columns</p>\n</div>"
     },
     "execution_count": 10,
     "metadata": {},
     "output_type": "execute_result"
    }
   ],
   "source": [
    "dataset.head()"
   ],
   "metadata": {
    "collapsed": false,
    "ExecuteTime": {
     "start_time": "2023-12-20T14:26:28.832597Z",
     "end_time": "2023-12-20T14:26:28.859314Z"
    }
   }
  },
  {
   "cell_type": "markdown",
   "source": [
    "Now, It is necessary to analyse if there is any NaN value. For see the number of NaN values for each attribute is necessary to extend the maximum number of rows that pandas let to show. It is used \"with\" to do it only for this code block."
   ],
   "metadata": {
    "collapsed": false
   }
  },
  {
   "cell_type": "code",
   "execution_count": 11,
   "outputs": [
    {
     "name": "stdout",
     "output_type": "stream",
     "text": [
      "Dataset size: (100000, 100)\n",
      "rev_Mean              357\n",
      "mou_Mean              357\n",
      "totmrc_Mean           357\n",
      "da_Mean               357\n",
      "ovrmou_Mean           357\n",
      "ovrrev_Mean           357\n",
      "vceovr_Mean           357\n",
      "datovr_Mean           357\n",
      "roam_Mean             357\n",
      "change_mou            891\n",
      "change_rev            891\n",
      "drop_vce_Mean           0\n",
      "drop_dat_Mean           0\n",
      "blck_vce_Mean           0\n",
      "blck_dat_Mean           0\n",
      "unan_vce_Mean           0\n",
      "unan_dat_Mean           0\n",
      "plcd_vce_Mean           0\n",
      "plcd_dat_Mean           0\n",
      "recv_vce_Mean           0\n",
      "recv_sms_Mean           0\n",
      "comp_vce_Mean           0\n",
      "comp_dat_Mean           0\n",
      "custcare_Mean           0\n",
      "ccrndmou_Mean           0\n",
      "cc_mou_Mean             0\n",
      "inonemin_Mean           0\n",
      "threeway_Mean           0\n",
      "mou_cvce_Mean           0\n",
      "mou_cdat_Mean           0\n",
      "mou_rvce_Mean           0\n",
      "owylis_vce_Mean         0\n",
      "mouowylisv_Mean         0\n",
      "iwylis_vce_Mean         0\n",
      "mouiwylisv_Mean         0\n",
      "peak_vce_Mean           0\n",
      "peak_dat_Mean           0\n",
      "mou_peav_Mean           0\n",
      "mou_pead_Mean           0\n",
      "opk_vce_Mean            0\n",
      "opk_dat_Mean            0\n",
      "mou_opkv_Mean           0\n",
      "mou_opkd_Mean           0\n",
      "drop_blk_Mean           0\n",
      "attempt_Mean            0\n",
      "complete_Mean           0\n",
      "callfwdv_Mean           0\n",
      "callwait_Mean           0\n",
      "churn                   0\n",
      "months                  0\n",
      "uniqsubs                0\n",
      "actvsubs                0\n",
      "new_cell                0\n",
      "crclscod                0\n",
      "asl_flag                0\n",
      "totcalls                0\n",
      "totmou                  0\n",
      "totrev                  0\n",
      "adjrev                  0\n",
      "adjmou                  0\n",
      "adjqty                  0\n",
      "avgrev                  0\n",
      "avgmou                  0\n",
      "avgqty                  0\n",
      "avg3mou                 0\n",
      "avg3qty                 0\n",
      "avg3rev                 0\n",
      "avg6mou              2839\n",
      "avg6qty              2839\n",
      "avg6rev              2839\n",
      "prizm_social_one     7388\n",
      "area                   40\n",
      "dualband                1\n",
      "refurb_new              1\n",
      "hnd_price             847\n",
      "phones                  1\n",
      "models                  1\n",
      "hnd_webcap          10189\n",
      "truck                1732\n",
      "rv                   1732\n",
      "ownrent             33706\n",
      "lor                 30190\n",
      "dwlltype            31909\n",
      "marital              1732\n",
      "adults              23019\n",
      "infobase            22079\n",
      "income              25436\n",
      "numbcars            49366\n",
      "HHstatin            37923\n",
      "dwllsize            38308\n",
      "forgntvl             1732\n",
      "ethnic               1732\n",
      "kid0_2               1732\n",
      "kid3_5               1732\n",
      "kid6_10              1732\n",
      "kid11_15             1732\n",
      "kid16_17             1732\n",
      "creditcd             1732\n",
      "eqpdays                 1\n",
      "Customer_ID             0\n",
      "dtype: int64\n"
     ]
    }
   ],
   "source": [
    "print(\"Dataset size:\", dataset.shape)\n",
    "\n",
    "#Modifying the maximum number of rows that pandas let to show\n",
    "with pd.option_context('display.max_rows', None, 'display.max_columns', None):\n",
    "   print(dataset.isnull().sum())"
   ],
   "metadata": {
    "collapsed": false,
    "ExecuteTime": {
     "start_time": "2023-12-20T14:26:28.856119Z",
     "end_time": "2023-12-20T14:26:31.697217Z"
    }
   }
  },
  {
   "cell_type": "markdown",
   "source": [
    "### DROPS"
   ],
   "metadata": {
    "collapsed": false
   }
  },
  {
   "cell_type": "markdown",
   "source": [
    "Attributes dropped:\n",
    "- ethnic: is not ethical to keep this attribute\n",
    "- numbcars: almost half of the dataset doesn't have this attribute\n",
    "- Customer_ID: it has not variance because is unique for each customer\n",
    "- ownrent, lor, dwlltype, HHstatin, dwllsize: They are NaN on 30% of the dataset"
   ],
   "metadata": {
    "collapsed": false
   }
  },
  {
   "cell_type": "code",
   "execution_count": 12,
   "outputs": [
    {
     "name": "stdout",
     "output_type": "stream",
     "text": [
      "Dataset size: (100000, 92)\n"
     ]
    }
   ],
   "source": [
    "datasetClean=dataset.drop(columns=[\"ethnic\", \"numbcars\", \"Customer_ID\", \"ownrent\", \"lor\", \"dwlltype\", \"HHstatin\", \"dwllsize\"])\n",
    "print(\"Dataset size:\", datasetClean.shape)"
   ],
   "metadata": {
    "collapsed": false,
    "ExecuteTime": {
     "start_time": "2023-12-20T14:26:31.636227Z",
     "end_time": "2023-12-20T14:26:31.697684Z"
    }
   }
  },
  {
   "cell_type": "markdown",
   "source": [
    "2 test cases:\n",
    "- Dropping all the samples with NaN values.\n",
    "- Data insertion to substitute NaN values. Categorical attributes will use mode value and numerical median value."
   ],
   "metadata": {
    "collapsed": false
   }
  },
  {
   "cell_type": "markdown",
   "source": [
    "### DROPPING NAN'S\n"
   ],
   "metadata": {
    "collapsed": false
   }
  },
  {
   "cell_type": "code",
   "execution_count": 13,
   "outputs": [
    {
     "data": {
      "text/plain": "(60385, 92)"
     },
     "execution_count": 13,
     "metadata": {},
     "output_type": "execute_result"
    }
   ],
   "source": [
    "#dropping all the samples with NaN\n",
    "dfDropNan=datasetClean.dropna()\n",
    "dfDropNan.shape"
   ],
   "metadata": {
    "collapsed": false,
    "ExecuteTime": {
     "start_time": "2023-12-20T14:26:32.628551Z",
     "end_time": "2023-12-20T14:26:32.712240Z"
    }
   }
  },
  {
   "cell_type": "markdown",
   "source": [
    "### INSERTION OF NUMBERS"
   ],
   "metadata": {
    "collapsed": false
   }
  },
  {
   "cell_type": "markdown",
   "source": [
    "In order to code categorical attributes, object attributes need to be transform."
   ],
   "metadata": {
    "collapsed": false
   }
  },
  {
   "cell_type": "code",
   "execution_count": 14,
   "outputs": [
    {
     "data": {
      "text/plain": "Index(['rev_Mean', 'mou_Mean', 'totmrc_Mean', 'da_Mean', 'ovrmou_Mean',\n       'ovrrev_Mean', 'vceovr_Mean', 'datovr_Mean', 'roam_Mean', 'change_mou',\n       'change_rev', 'drop_vce_Mean', 'drop_dat_Mean', 'blck_vce_Mean',\n       'blck_dat_Mean', 'unan_vce_Mean', 'unan_dat_Mean', 'plcd_vce_Mean',\n       'plcd_dat_Mean', 'recv_vce_Mean', 'recv_sms_Mean', 'comp_vce_Mean',\n       'comp_dat_Mean', 'custcare_Mean', 'ccrndmou_Mean', 'cc_mou_Mean',\n       'inonemin_Mean', 'threeway_Mean', 'mou_cvce_Mean', 'mou_cdat_Mean',\n       'mou_rvce_Mean', 'owylis_vce_Mean', 'mouowylisv_Mean',\n       'iwylis_vce_Mean', 'mouiwylisv_Mean', 'peak_vce_Mean', 'peak_dat_Mean',\n       'mou_peav_Mean', 'mou_pead_Mean', 'opk_vce_Mean', 'opk_dat_Mean',\n       'mou_opkv_Mean', 'mou_opkd_Mean', 'drop_blk_Mean', 'attempt_Mean',\n       'complete_Mean', 'callfwdv_Mean', 'callwait_Mean', 'new_cell',\n       'crclscod', 'asl_flag', 'totmou', 'totrev', 'adjrev', 'adjmou',\n       'avgrev', 'avgmou', 'avgqty', 'prizm_social_one', 'area', 'dualband',\n       'refurb_new', 'hnd_price', 'hnd_webcap', 'marital', 'infobase',\n       'kid0_2', 'kid3_5', 'kid6_10', 'kid11_15', 'kid16_17', 'creditcd'],\n      dtype='object')"
     },
     "execution_count": 14,
     "metadata": {},
     "output_type": "execute_result"
    }
   ],
   "source": [
    "datasetClean.select_dtypes(include='object').columns"
   ],
   "metadata": {
    "collapsed": false,
    "ExecuteTime": {
     "start_time": "2023-12-20T14:26:32.831991Z",
     "end_time": "2023-12-20T14:26:32.836940Z"
    }
   }
  },
  {
   "cell_type": "markdown",
   "source": [
    "Object attributes which are numbers with \",\" are pass to floats and object with only numbers and more than 2 different numbers are convert to integer."
   ],
   "metadata": {
    "collapsed": false
   }
  },
  {
   "cell_type": "code",
   "execution_count": 15,
   "outputs": [],
   "source": [
    "objectAttributesList = datasetClean.select_dtypes(include='object').columns\n",
    "#print(objectAttributesList)\n",
    "for column in objectAttributesList:\n",
    "   # Looking through all the column to see if there are one string with a number\n",
    "\n",
    "   if datasetClean[column].str.contains('\\d,').any():\n",
    "      # Casting column from string with \",\" to float with \".\"\n",
    "      datasetClean[column] = datasetClean[column].str.replace(',', '.').astype(float)\n",
    "\n",
    "   elif datasetClean[column].str.contains('\\d+').all() and len(datasetClean[column].unique()) > 2:\n",
    "      #If the values in the column are numbers and there are not binary, they are not categorical\n",
    "      datasetClean[column] = datasetClean[column].astype(int)"
   ],
   "metadata": {
    "collapsed": false,
    "ExecuteTime": {
     "start_time": "2023-12-20T14:26:32.841575Z",
     "end_time": "2023-12-20T14:26:44.367717Z"
    }
   }
  },
  {
   "cell_type": "markdown",
   "source": [
    "Now, only remains attributes which are categorical, binaries and labels"
   ],
   "metadata": {
    "collapsed": false
   }
  },
  {
   "cell_type": "code",
   "execution_count": 16,
   "outputs": [
    {
     "data": {
      "text/plain": "Index(['new_cell', 'crclscod', 'asl_flag', 'prizm_social_one', 'area',\n       'dualband', 'refurb_new', 'hnd_webcap', 'marital', 'infobase', 'kid0_2',\n       'kid3_5', 'kid6_10', 'kid11_15', 'kid16_17', 'creditcd'],\n      dtype='object')"
     },
     "execution_count": 16,
     "metadata": {},
     "output_type": "execute_result"
    }
   ],
   "source": [
    "datasetClean.select_dtypes(include='object').columns"
   ],
   "metadata": {
    "collapsed": false,
    "ExecuteTime": {
     "start_time": "2023-12-20T14:26:44.365250Z",
     "end_time": "2023-12-20T14:26:44.384476Z"
    }
   }
  },
  {
   "cell_type": "code",
   "execution_count": 57,
   "outputs": [
    {
     "name": "stdout",
     "output_type": "stream",
     "text": [
      "rev_Mean            0\n",
      "mou_Mean            0\n",
      "totmrc_Mean         0\n",
      "da_Mean             0\n",
      "ovrmou_Mean         0\n",
      "ovrrev_Mean         0\n",
      "vceovr_Mean         0\n",
      "datovr_Mean         0\n",
      "roam_Mean           0\n",
      "change_mou          0\n",
      "change_rev          0\n",
      "drop_vce_Mean       0\n",
      "drop_dat_Mean       0\n",
      "blck_vce_Mean       0\n",
      "blck_dat_Mean       0\n",
      "unan_vce_Mean       0\n",
      "unan_dat_Mean       0\n",
      "plcd_vce_Mean       0\n",
      "plcd_dat_Mean       0\n",
      "recv_vce_Mean       0\n",
      "recv_sms_Mean       0\n",
      "comp_vce_Mean       0\n",
      "comp_dat_Mean       0\n",
      "custcare_Mean       0\n",
      "ccrndmou_Mean       0\n",
      "cc_mou_Mean         0\n",
      "inonemin_Mean       0\n",
      "threeway_Mean       0\n",
      "mou_cvce_Mean       0\n",
      "mou_cdat_Mean       0\n",
      "mou_rvce_Mean       0\n",
      "owylis_vce_Mean     0\n",
      "mouowylisv_Mean     0\n",
      "iwylis_vce_Mean     0\n",
      "mouiwylisv_Mean     0\n",
      "peak_vce_Mean       0\n",
      "peak_dat_Mean       0\n",
      "mou_peav_Mean       0\n",
      "mou_pead_Mean       0\n",
      "opk_vce_Mean        0\n",
      "opk_dat_Mean        0\n",
      "mou_opkv_Mean       0\n",
      "mou_opkd_Mean       0\n",
      "drop_blk_Mean       0\n",
      "attempt_Mean        0\n",
      "complete_Mean       0\n",
      "callfwdv_Mean       0\n",
      "callwait_Mean       0\n",
      "churn               0\n",
      "months              0\n",
      "uniqsubs            0\n",
      "actvsubs            0\n",
      "new_cell            0\n",
      "crclscod            0\n",
      "asl_flag            0\n",
      "totcalls            0\n",
      "totmou              0\n",
      "totrev              0\n",
      "adjrev              0\n",
      "adjmou              0\n",
      "adjqty              0\n",
      "avgrev              0\n",
      "avgmou              0\n",
      "avgqty              0\n",
      "avg3mou             0\n",
      "avg3qty             0\n",
      "avg3rev             0\n",
      "avg6mou             0\n",
      "avg6qty             0\n",
      "avg6rev             0\n",
      "prizm_social_one    0\n",
      "area                0\n",
      "dualband            0\n",
      "refurb_new          0\n",
      "hnd_price           0\n",
      "phones              0\n",
      "models              0\n",
      "hnd_webcap          0\n",
      "truck               0\n",
      "rv                  0\n",
      "marital             0\n",
      "adults              0\n",
      "infobase            0\n",
      "income              0\n",
      "forgntvl            0\n",
      "kid0_2              0\n",
      "kid3_5              0\n",
      "kid6_10             0\n",
      "kid11_15            0\n",
      "kid16_17            0\n",
      "creditcd            0\n",
      "eqpdays             0\n",
      "dtype: int64\n"
     ]
    }
   ],
   "source": [
    "dfNanSubstituted=datasetClean.copy()\n",
    "\n",
    "#filling NaN in object categorical attributes\n",
    "columnCategorical=dfNanSubstituted.select_dtypes(include='object').columns\n",
    "for column in columnCategorical:\n",
    "   #Filling with the most common categorical value, the mode\n",
    "   dfNanSubstituted[column].fillna(dfNanSubstituted[column].mode()[0], inplace=True)\n",
    "\n",
    "#fillin NaN in not numerical object attributes\n",
    "notNumericalColumn=dfNanSubstituted.select_dtypes(exclude='object').columns\n",
    "for column in notNumericalColumn:\n",
    "   #Filling with the most common categorical value, the mode\n",
    "   dfNanSubstituted[column].fillna(dfNanSubstituted[column].median(), inplace=True)\n",
    "\n",
    "#Modifying the maximum number of rows that pandas let to show\n",
    "with pd.option_context('display.max_rows', None, 'display.max_columns', None):\n",
    "   print(dfNanSubstituted.isnull().sum())"
   ],
   "metadata": {
    "collapsed": false,
    "ExecuteTime": {
     "start_time": "2023-12-20T18:22:07.045522Z",
     "end_time": "2023-12-20T18:22:07.983994Z"
    }
   }
  },
  {
   "cell_type": "markdown",
   "source": [
    "Attributes object that remains are categorical. It is printed the name of the attribute and the number of unique values in each attribute. Also, categorical attributes are encoded."
   ],
   "metadata": {
    "collapsed": false
   }
  },
  {
   "cell_type": "code",
   "execution_count": 58,
   "outputs": [
    {
     "name": "stdout",
     "output_type": "stream",
     "text": [
      "new_cell U 3\n",
      "crclscod A 54\n",
      "asl_flag N 2\n",
      "prizm_social_one S 5\n",
      "area NORTHWEST/ROCKY MOUNTAIN AREA 19\n",
      "dualband Y 4\n",
      "refurb_new N 2\n",
      "hnd_webcap WCMB 3\n",
      "marital S 5\n",
      "infobase M 2\n",
      "kid0_2 U 2\n",
      "kid3_5 U 2\n",
      "kid6_10 U 2\n",
      "kid11_15 U 2\n",
      "kid16_17 U 2\n",
      "creditcd Y 2\n"
     ]
    }
   ],
   "source": [
    "objectAttributesList = dfNanSubstituted.select_dtypes(include='object').columns\n",
    "\n",
    "for column in objectAttributesList:\n",
    "\n",
    "   print(column, len(dfNanSubstituted[column].unique()))\n",
    "\n",
    "   #categorical\n",
    "   if len(dfNanSubstituted[column].unique()) > 2:\n",
    "      oneshot_encoder = OneHotEncoder(sparse=False, handle_unknown='ignore')\n",
    "      cadena=dfNanSubstituted[column].to_numpy().reshape(-1, 1)\n",
    "      dataNewColumns=oneshot_encoder.fit_transform(cadena)\n",
    "\n",
    "      #creation of a list with new names for new coded column\n",
    "      #The for loop is iterating inside the categories created by the encoder\n",
    "      categories=oneshot_encoder.categories_[0]\n",
    "      newColumnNameList=[f'{column}_{cat}' for cat in categories]\n",
    "\n",
    "      newColumns=pd.DataFrame(dataNewColumns, columns=newColumnNameList)\n",
    "\n",
    "      #adding new columns and dropping categorical column that has been encoded\n",
    "      dfNanSubstituted=dfNanSubstituted.join(newColumns)\n",
    "      dfNanSubstituted.drop(columns=column, inplace=True)\n",
    "\n",
    "\n",
    "   else:\n",
    "      #binary categorical encode\n",
    "      encoder = LabelEncoder()\n",
    "      dfNanSubstituted[column]=encoder.fit_transform(dfNanSubstituted[column])\n"
   ],
   "metadata": {
    "collapsed": false,
    "ExecuteTime": {
     "start_time": "2023-12-20T18:22:10.332704Z",
     "end_time": "2023-12-20T18:33:54.989713Z"
    }
   }
  },
  {
   "cell_type": "markdown",
   "source": [
    "## ATTRIBUTES SELECTION"
   ],
   "metadata": {
    "collapsed": false
   }
  },
  {
   "cell_type": "markdown",
   "source": [
    "### PCA\n",
    "\n",
    "It is necessary to standardize the dataset to use PCA."
   ],
   "metadata": {
    "collapsed": false
   }
  },
  {
   "cell_type": "code",
   "execution_count": 60,
   "outputs": [],
   "source": [
    "#getting the objective attribute from the datasets of the 2 test cases\n",
    "nanSubs_X=dfNanSubstituted.drop(columns='churn')\n",
    "nanSubs_Y=dfNanSubstituted['churn']\n",
    "\n",
    "nanDrop_X=dfDropNan.drop(columns='churn')\n",
    "nanDrop_Y=dfDropNan['churn']\n"
   ],
   "metadata": {
    "collapsed": false,
    "ExecuteTime": {
     "start_time": "2023-12-21T01:05:53.731506Z",
     "end_time": "2023-12-21T01:05:56.631023Z"
    }
   }
  },
  {
   "cell_type": "code",
   "execution_count": 62,
   "outputs": [
    {
     "ename": "ValueError",
     "evalue": "could not convert string to float: '23,9975'",
     "output_type": "error",
     "traceback": [
      "\u001B[0;31m---------------------------------------------------------------------------\u001B[0m",
      "\u001B[0;31mValueError\u001B[0m                                Traceback (most recent call last)",
      "\u001B[0;32m/var/folders/4c/wcpzkb9d3y79cvx0_vlxmk940000gn/T/ipykernel_9774/456558058.py\u001B[0m in \u001B[0;36m?\u001B[0;34m()\u001B[0m\n\u001B[1;32m      1\u001B[0m \u001B[0mscaler\u001B[0m \u001B[0;34m=\u001B[0m \u001B[0mStandardScaler\u001B[0m\u001B[0;34m(\u001B[0m\u001B[0;34m)\u001B[0m\u001B[0;34m\u001B[0m\u001B[0;34m\u001B[0m\u001B[0m\n\u001B[1;32m      2\u001B[0m \u001B[0;34m\u001B[0m\u001B[0m\n\u001B[1;32m      3\u001B[0m \u001B[0mnanSubs_X_std\u001B[0m\u001B[0;34m=\u001B[0m\u001B[0mscaler\u001B[0m\u001B[0;34m.\u001B[0m\u001B[0mfit_transform\u001B[0m\u001B[0;34m(\u001B[0m\u001B[0mnanSubs_X\u001B[0m\u001B[0;34m)\u001B[0m\u001B[0;34m\u001B[0m\u001B[0;34m\u001B[0m\u001B[0m\n\u001B[1;32m      4\u001B[0m \u001B[0;34m\u001B[0m\u001B[0m\n\u001B[0;32m----> 5\u001B[0;31m \u001B[0mnanDrop_X_std\u001B[0m\u001B[0;34m=\u001B[0m\u001B[0mscaler\u001B[0m\u001B[0;34m.\u001B[0m\u001B[0mfit_transform\u001B[0m\u001B[0;34m(\u001B[0m\u001B[0mnanDrop_X\u001B[0m\u001B[0;34m)\u001B[0m\u001B[0;34m\u001B[0m\u001B[0;34m\u001B[0m\u001B[0m\n\u001B[0m\u001B[1;32m      6\u001B[0m \u001B[0;34m\u001B[0m\u001B[0m\n\u001B[1;32m      7\u001B[0m \u001B[0mpca\u001B[0m \u001B[0;34m=\u001B[0m \u001B[0mPCA\u001B[0m\u001B[0;34m(\u001B[0m\u001B[0mn_components\u001B[0m\u001B[0;34m=\u001B[0m\u001B[0;36m2\u001B[0m\u001B[0;34m)\u001B[0m\u001B[0;34m\u001B[0m\u001B[0;34m\u001B[0m\u001B[0m\n\u001B[1;32m      8\u001B[0m \u001B[0;34m\u001B[0m\u001B[0m\n",
      "\u001B[0;32m/Library/Frameworks/Python.framework/Versions/3.10/lib/python3.10/site-packages/sklearn/base.py\u001B[0m in \u001B[0;36m?\u001B[0;34m(self, X, y, **fit_params)\u001B[0m\n\u001B[1;32m    863\u001B[0m         \u001B[0;31m# non-optimized default implementation; override when a better\u001B[0m\u001B[0;34m\u001B[0m\u001B[0;34m\u001B[0m\u001B[0m\n\u001B[1;32m    864\u001B[0m         \u001B[0;31m# method is possible for a given clustering algorithm\u001B[0m\u001B[0;34m\u001B[0m\u001B[0;34m\u001B[0m\u001B[0m\n\u001B[1;32m    865\u001B[0m         \u001B[0;32mif\u001B[0m \u001B[0my\u001B[0m \u001B[0;32mis\u001B[0m \u001B[0;32mNone\u001B[0m\u001B[0;34m:\u001B[0m\u001B[0;34m\u001B[0m\u001B[0;34m\u001B[0m\u001B[0m\n\u001B[1;32m    866\u001B[0m             \u001B[0;31m# fit method of arity 1 (unsupervised transformation)\u001B[0m\u001B[0;34m\u001B[0m\u001B[0;34m\u001B[0m\u001B[0m\n\u001B[0;32m--> 867\u001B[0;31m             \u001B[0;32mreturn\u001B[0m \u001B[0mself\u001B[0m\u001B[0;34m.\u001B[0m\u001B[0mfit\u001B[0m\u001B[0;34m(\u001B[0m\u001B[0mX\u001B[0m\u001B[0;34m,\u001B[0m \u001B[0;34m**\u001B[0m\u001B[0mfit_params\u001B[0m\u001B[0;34m)\u001B[0m\u001B[0;34m.\u001B[0m\u001B[0mtransform\u001B[0m\u001B[0;34m(\u001B[0m\u001B[0mX\u001B[0m\u001B[0;34m)\u001B[0m\u001B[0;34m\u001B[0m\u001B[0;34m\u001B[0m\u001B[0m\n\u001B[0m\u001B[1;32m    868\u001B[0m         \u001B[0;32melse\u001B[0m\u001B[0;34m:\u001B[0m\u001B[0;34m\u001B[0m\u001B[0;34m\u001B[0m\u001B[0m\n\u001B[1;32m    869\u001B[0m             \u001B[0;31m# fit method of arity 2 (supervised transformation)\u001B[0m\u001B[0;34m\u001B[0m\u001B[0;34m\u001B[0m\u001B[0m\n\u001B[1;32m    870\u001B[0m             \u001B[0;32mreturn\u001B[0m \u001B[0mself\u001B[0m\u001B[0;34m.\u001B[0m\u001B[0mfit\u001B[0m\u001B[0;34m(\u001B[0m\u001B[0mX\u001B[0m\u001B[0;34m,\u001B[0m \u001B[0my\u001B[0m\u001B[0;34m,\u001B[0m \u001B[0;34m**\u001B[0m\u001B[0mfit_params\u001B[0m\u001B[0;34m)\u001B[0m\u001B[0;34m.\u001B[0m\u001B[0mtransform\u001B[0m\u001B[0;34m(\u001B[0m\u001B[0mX\u001B[0m\u001B[0;34m)\u001B[0m\u001B[0;34m\u001B[0m\u001B[0;34m\u001B[0m\u001B[0m\n",
      "\u001B[0;32m/Library/Frameworks/Python.framework/Versions/3.10/lib/python3.10/site-packages/sklearn/preprocessing/_data.py\u001B[0m in \u001B[0;36m?\u001B[0;34m(self, X, y, sample_weight)\u001B[0m\n\u001B[1;32m    805\u001B[0m             \u001B[0mFitted\u001B[0m \u001B[0mscaler\u001B[0m\u001B[0;34m.\u001B[0m\u001B[0;34m\u001B[0m\u001B[0;34m\u001B[0m\u001B[0m\n\u001B[1;32m    806\u001B[0m         \"\"\"\n\u001B[1;32m    807\u001B[0m         \u001B[0;31m# Reset internal state before fitting\u001B[0m\u001B[0;34m\u001B[0m\u001B[0;34m\u001B[0m\u001B[0m\n\u001B[1;32m    808\u001B[0m         \u001B[0mself\u001B[0m\u001B[0;34m.\u001B[0m\u001B[0m_reset\u001B[0m\u001B[0;34m(\u001B[0m\u001B[0;34m)\u001B[0m\u001B[0;34m\u001B[0m\u001B[0;34m\u001B[0m\u001B[0m\n\u001B[0;32m--> 809\u001B[0;31m         \u001B[0;32mreturn\u001B[0m \u001B[0mself\u001B[0m\u001B[0;34m.\u001B[0m\u001B[0mpartial_fit\u001B[0m\u001B[0;34m(\u001B[0m\u001B[0mX\u001B[0m\u001B[0;34m,\u001B[0m \u001B[0my\u001B[0m\u001B[0;34m,\u001B[0m \u001B[0msample_weight\u001B[0m\u001B[0;34m)\u001B[0m\u001B[0;34m\u001B[0m\u001B[0;34m\u001B[0m\u001B[0m\n\u001B[0m",
      "\u001B[0;32m/Library/Frameworks/Python.framework/Versions/3.10/lib/python3.10/site-packages/sklearn/preprocessing/_data.py\u001B[0m in \u001B[0;36m?\u001B[0;34m(self, X, y, sample_weight)\u001B[0m\n\u001B[1;32m    840\u001B[0m         \u001B[0mself\u001B[0m \u001B[0;34m:\u001B[0m \u001B[0mobject\u001B[0m\u001B[0;34m\u001B[0m\u001B[0;34m\u001B[0m\u001B[0m\n\u001B[1;32m    841\u001B[0m             \u001B[0mFitted\u001B[0m \u001B[0mscaler\u001B[0m\u001B[0;34m.\u001B[0m\u001B[0;34m\u001B[0m\u001B[0;34m\u001B[0m\u001B[0m\n\u001B[1;32m    842\u001B[0m         \"\"\"\n\u001B[1;32m    843\u001B[0m         \u001B[0mfirst_call\u001B[0m \u001B[0;34m=\u001B[0m \u001B[0;32mnot\u001B[0m \u001B[0mhasattr\u001B[0m\u001B[0;34m(\u001B[0m\u001B[0mself\u001B[0m\u001B[0;34m,\u001B[0m \u001B[0;34m\"n_samples_seen_\"\u001B[0m\u001B[0;34m)\u001B[0m\u001B[0;34m\u001B[0m\u001B[0;34m\u001B[0m\u001B[0m\n\u001B[0;32m--> 844\u001B[0;31m         X = self._validate_data(\n\u001B[0m\u001B[1;32m    845\u001B[0m             \u001B[0mX\u001B[0m\u001B[0;34m,\u001B[0m\u001B[0;34m\u001B[0m\u001B[0;34m\u001B[0m\u001B[0m\n\u001B[1;32m    846\u001B[0m             \u001B[0maccept_sparse\u001B[0m\u001B[0;34m=\u001B[0m\u001B[0;34m(\u001B[0m\u001B[0;34m\"csr\"\u001B[0m\u001B[0;34m,\u001B[0m \u001B[0;34m\"csc\"\u001B[0m\u001B[0;34m)\u001B[0m\u001B[0;34m,\u001B[0m\u001B[0;34m\u001B[0m\u001B[0;34m\u001B[0m\u001B[0m\n\u001B[1;32m    847\u001B[0m             \u001B[0mdtype\u001B[0m\u001B[0;34m=\u001B[0m\u001B[0mFLOAT_DTYPES\u001B[0m\u001B[0;34m,\u001B[0m\u001B[0;34m\u001B[0m\u001B[0;34m\u001B[0m\u001B[0m\n",
      "\u001B[0;32m/Library/Frameworks/Python.framework/Versions/3.10/lib/python3.10/site-packages/sklearn/base.py\u001B[0m in \u001B[0;36m?\u001B[0;34m(self, X, y, reset, validate_separately, **check_params)\u001B[0m\n\u001B[1;32m    573\u001B[0m \u001B[0;34m\u001B[0m\u001B[0m\n\u001B[1;32m    574\u001B[0m         \u001B[0;32mif\u001B[0m \u001B[0mno_val_X\u001B[0m \u001B[0;32mand\u001B[0m \u001B[0mno_val_y\u001B[0m\u001B[0;34m:\u001B[0m\u001B[0;34m\u001B[0m\u001B[0;34m\u001B[0m\u001B[0m\n\u001B[1;32m    575\u001B[0m             \u001B[0;32mraise\u001B[0m \u001B[0mValueError\u001B[0m\u001B[0;34m(\u001B[0m\u001B[0;34m\"Validation should be done on X, y or both.\"\u001B[0m\u001B[0;34m)\u001B[0m\u001B[0;34m\u001B[0m\u001B[0;34m\u001B[0m\u001B[0m\n\u001B[1;32m    576\u001B[0m         \u001B[0;32melif\u001B[0m \u001B[0;32mnot\u001B[0m \u001B[0mno_val_X\u001B[0m \u001B[0;32mand\u001B[0m \u001B[0mno_val_y\u001B[0m\u001B[0;34m:\u001B[0m\u001B[0;34m\u001B[0m\u001B[0;34m\u001B[0m\u001B[0m\n\u001B[0;32m--> 577\u001B[0;31m             \u001B[0mX\u001B[0m \u001B[0;34m=\u001B[0m \u001B[0mcheck_array\u001B[0m\u001B[0;34m(\u001B[0m\u001B[0mX\u001B[0m\u001B[0;34m,\u001B[0m \u001B[0minput_name\u001B[0m\u001B[0;34m=\u001B[0m\u001B[0;34m\"X\"\u001B[0m\u001B[0;34m,\u001B[0m \u001B[0;34m**\u001B[0m\u001B[0mcheck_params\u001B[0m\u001B[0;34m)\u001B[0m\u001B[0;34m\u001B[0m\u001B[0;34m\u001B[0m\u001B[0m\n\u001B[0m\u001B[1;32m    578\u001B[0m             \u001B[0mout\u001B[0m \u001B[0;34m=\u001B[0m \u001B[0mX\u001B[0m\u001B[0;34m\u001B[0m\u001B[0;34m\u001B[0m\u001B[0m\n\u001B[1;32m    579\u001B[0m         \u001B[0;32melif\u001B[0m \u001B[0mno_val_X\u001B[0m \u001B[0;32mand\u001B[0m \u001B[0;32mnot\u001B[0m \u001B[0mno_val_y\u001B[0m\u001B[0;34m:\u001B[0m\u001B[0;34m\u001B[0m\u001B[0;34m\u001B[0m\u001B[0m\n\u001B[1;32m    580\u001B[0m             \u001B[0my\u001B[0m \u001B[0;34m=\u001B[0m \u001B[0m_check_y\u001B[0m\u001B[0;34m(\u001B[0m\u001B[0my\u001B[0m\u001B[0;34m,\u001B[0m \u001B[0;34m**\u001B[0m\u001B[0mcheck_params\u001B[0m\u001B[0;34m)\u001B[0m\u001B[0;34m\u001B[0m\u001B[0;34m\u001B[0m\u001B[0m\n",
      "\u001B[0;32m/Library/Frameworks/Python.framework/Versions/3.10/lib/python3.10/site-packages/sklearn/utils/validation.py\u001B[0m in \u001B[0;36m?\u001B[0;34m(array, accept_sparse, accept_large_sparse, dtype, order, copy, force_all_finite, ensure_2d, allow_nd, ensure_min_samples, ensure_min_features, estimator, input_name)\u001B[0m\n\u001B[1;32m    853\u001B[0m                         )\n\u001B[1;32m    854\u001B[0m                     \u001B[0marray\u001B[0m \u001B[0;34m=\u001B[0m \u001B[0marray\u001B[0m\u001B[0;34m.\u001B[0m\u001B[0mastype\u001B[0m\u001B[0;34m(\u001B[0m\u001B[0mdtype\u001B[0m\u001B[0;34m,\u001B[0m \u001B[0mcasting\u001B[0m\u001B[0;34m=\u001B[0m\u001B[0;34m\"unsafe\"\u001B[0m\u001B[0;34m,\u001B[0m \u001B[0mcopy\u001B[0m\u001B[0;34m=\u001B[0m\u001B[0;32mFalse\u001B[0m\u001B[0;34m)\u001B[0m\u001B[0;34m\u001B[0m\u001B[0;34m\u001B[0m\u001B[0m\n\u001B[1;32m    855\u001B[0m                 \u001B[0;32melse\u001B[0m\u001B[0;34m:\u001B[0m\u001B[0;34m\u001B[0m\u001B[0;34m\u001B[0m\u001B[0m\n\u001B[1;32m    856\u001B[0m                     \u001B[0marray\u001B[0m \u001B[0;34m=\u001B[0m \u001B[0mnp\u001B[0m\u001B[0;34m.\u001B[0m\u001B[0masarray\u001B[0m\u001B[0;34m(\u001B[0m\u001B[0marray\u001B[0m\u001B[0;34m,\u001B[0m \u001B[0morder\u001B[0m\u001B[0;34m=\u001B[0m\u001B[0morder\u001B[0m\u001B[0;34m,\u001B[0m \u001B[0mdtype\u001B[0m\u001B[0;34m=\u001B[0m\u001B[0mdtype\u001B[0m\u001B[0;34m)\u001B[0m\u001B[0;34m\u001B[0m\u001B[0;34m\u001B[0m\u001B[0m\n\u001B[0;32m--> 857\u001B[0;31m             \u001B[0;32mexcept\u001B[0m \u001B[0mComplexWarning\u001B[0m \u001B[0;32mas\u001B[0m \u001B[0mcomplex_warning\u001B[0m\u001B[0;34m:\u001B[0m\u001B[0;34m\u001B[0m\u001B[0;34m\u001B[0m\u001B[0m\n\u001B[0m\u001B[1;32m    858\u001B[0m                 raise ValueError(\n\u001B[1;32m    859\u001B[0m                     \u001B[0;34m\"Complex data not supported\\n{}\\n\"\u001B[0m\u001B[0;34m.\u001B[0m\u001B[0mformat\u001B[0m\u001B[0;34m(\u001B[0m\u001B[0marray\u001B[0m\u001B[0;34m)\u001B[0m\u001B[0;34m\u001B[0m\u001B[0;34m\u001B[0m\u001B[0m\n\u001B[1;32m    860\u001B[0m                 ) from complex_warning\n",
      "\u001B[0;32m/Library/Frameworks/Python.framework/Versions/3.10/lib/python3.10/site-packages/pandas/core/generic.py\u001B[0m in \u001B[0;36m?\u001B[0;34m(self, dtype)\u001B[0m\n\u001B[1;32m   2068\u001B[0m     \u001B[0;32mdef\u001B[0m \u001B[0m__array__\u001B[0m\u001B[0;34m(\u001B[0m\u001B[0mself\u001B[0m\u001B[0;34m,\u001B[0m \u001B[0mdtype\u001B[0m\u001B[0;34m:\u001B[0m \u001B[0mnpt\u001B[0m\u001B[0;34m.\u001B[0m\u001B[0mDTypeLike\u001B[0m \u001B[0;34m|\u001B[0m \u001B[0;32mNone\u001B[0m \u001B[0;34m=\u001B[0m \u001B[0;32mNone\u001B[0m\u001B[0;34m)\u001B[0m \u001B[0;34m->\u001B[0m \u001B[0mnp\u001B[0m\u001B[0;34m.\u001B[0m\u001B[0mndarray\u001B[0m\u001B[0;34m:\u001B[0m\u001B[0;34m\u001B[0m\u001B[0;34m\u001B[0m\u001B[0m\n\u001B[0;32m-> 2069\u001B[0;31m         \u001B[0;32mreturn\u001B[0m \u001B[0mnp\u001B[0m\u001B[0;34m.\u001B[0m\u001B[0masarray\u001B[0m\u001B[0;34m(\u001B[0m\u001B[0mself\u001B[0m\u001B[0;34m.\u001B[0m\u001B[0m_values\u001B[0m\u001B[0;34m,\u001B[0m \u001B[0mdtype\u001B[0m\u001B[0;34m=\u001B[0m\u001B[0mdtype\u001B[0m\u001B[0;34m)\u001B[0m\u001B[0;34m\u001B[0m\u001B[0;34m\u001B[0m\u001B[0m\n\u001B[0m",
      "\u001B[0;31mValueError\u001B[0m: could not convert string to float: '23,9975'"
     ]
    }
   ],
   "source": [
    "scaler = StandardScaler()\n",
    "\n",
    "nanSubs_X_std=scaler.fit_transform(nanSubs_X)\n",
    "\n",
    "nanDrop_X_std=scaler.fit_transform(nanDrop_X)\n",
    "\n",
    "pca = PCA(n_components=2)\n",
    "\n",
    "nanSubs_X_pca=pca.fit_transform(nanSubs_X)\n",
    "\n",
    "#Printing results of PCA\n",
    "print(pca.explained_variance_ratio_)\n",
    "\n",
    "nanDrop_X_pca=pca.fit_transform(nanDrop_X)\n",
    "\n",
    "#Printing results of PCA\n",
    "print(pca.explained_variance_ratio_)\n"
   ],
   "metadata": {
    "collapsed": false
   }
  },
  {
   "cell_type": "code",
   "execution_count": null,
   "outputs": [],
   "source": [],
   "metadata": {
    "collapsed": false
   }
  }
 ],
 "metadata": {
  "kernelspec": {
   "display_name": "Python 3",
   "language": "python",
   "name": "python3"
  },
  "language_info": {
   "codemirror_mode": {
    "name": "ipython",
    "version": 2
   },
   "file_extension": ".py",
   "mimetype": "text/x-python",
   "name": "python",
   "nbconvert_exporter": "python",
   "pygments_lexer": "ipython2",
   "version": "2.7.6"
  }
 },
 "nbformat": 4,
 "nbformat_minor": 0
}
