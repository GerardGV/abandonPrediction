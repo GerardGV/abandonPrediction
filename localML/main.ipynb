{
 "cells": [
  {
   "cell_type": "code",
   "execution_count": null,
   "outputs": [],
   "source": [
    "import pandas as pd\n",
    "import seaborn as sns\n",
    "from sklearn.preprocessing import OneHotEncoder, LabelEncoder\n",
    "from sklearn.preprocessing import StandardScaler\n",
    "from sklearn.decomposition import PCA\n",
    "import numpy as np\n",
    "import matplotlib.pyplot as plt\n",
    "from scipy.stats import pointbiserialr\n",
    "from scipy.stats import chi2_contingency\n",
    "from sklearn.linear_model import LogisticRegression\n",
    "from sklearn.model_selection import train_test_split\n",
    "from sklearn.metrics import recall_score\n",
    "from sklearn.tree import DecisionTreeClassifier\n",
    "from sklearn.ensemble import RandomForestClassifier\n",
    "from sklearn.metrics import roc_auc_score\n",
    "from sklearn.metrics import roc_curve\n",
    "\n",
    "from sklearn.ensemble import AdaBoostClassifier, GradientBoostingClassifier, ExtraTreesClassifier\n",
    "\n",
    "\n",
    "path=\"dataset.csv\""
   ],
   "metadata": {
    "collapsed": false,
    "ExecuteTime": {
     "start_time": "2023-12-31T00:04:01.347241Z",
     "end_time": "2023-12-31T00:04:02.043922Z"
    }
   }
  },
  {
   "cell_type": "markdown",
   "source": [
    "## DATA CLEANING"
   ],
   "metadata": {
    "collapsed": false
   }
  },
  {
   "cell_type": "markdown",
   "source": [
    "To detect automatically the delimiter or separator, it is specified that separator is equal to None to make python find it. See the explanation of sep parameter on:\n",
    "https://pandas.pydata.org/pandas-docs/stable/reference/api/pandas.read_csv.html"
   ],
   "metadata": {
    "collapsed": false
   }
  },
  {
   "cell_type": "code",
   "execution_count": null,
   "outputs": [],
   "source": [
    "dataset=pd.read_csv(path, sep=None, engine=\"python\")"
   ],
   "metadata": {
    "collapsed": false,
    "ExecuteTime": {
     "start_time": "2023-12-31T00:04:01.475252Z",
     "end_time": "2023-12-31T00:04:11.734355Z"
    }
   }
  },
  {
   "cell_type": "code",
   "execution_count": null,
   "outputs": [],
   "source": [
    "dataset.head()"
   ],
   "metadata": {
    "collapsed": false,
    "ExecuteTime": {
     "start_time": "2023-12-31T00:04:11.777810Z",
     "end_time": "2023-12-31T00:04:11.787556Z"
    }
   }
  },
  {
   "cell_type": "markdown",
   "source": [
    "Balance in the objective variable:"
   ],
   "metadata": {
    "collapsed": false
   }
  },
  {
   "cell_type": "code",
   "execution_count": null,
   "outputs": [],
   "source": [
    "dataset['churn'].value_counts()"
   ],
   "metadata": {
    "collapsed": false,
    "ExecuteTime": {
     "start_time": "2023-12-31T00:04:11.799760Z",
     "end_time": "2023-12-31T00:04:11.805003Z"
    }
   }
  },
  {
   "cell_type": "code",
   "execution_count": null,
   "outputs": [],
   "source": [
    "sns.countplot(x='churn', data=dataset, palette='hls')\n",
    "plt.show()"
   ],
   "metadata": {
    "collapsed": false,
    "ExecuteTime": {
     "start_time": "2023-12-31T00:04:11.816159Z",
     "end_time": "2023-12-31T00:04:12.197345Z"
    }
   }
  },
  {
   "cell_type": "markdown",
   "source": [
    "Now, It is necessary to analyse if there is any NaN value. For see the number of NaN values for each attribute is necessary to extend the maximum number of rows that pandas let to show. It is used \"with\" to do it only for this code block."
   ],
   "metadata": {
    "collapsed": false
   }
  },
  {
   "cell_type": "code",
   "execution_count": null,
   "outputs": [],
   "source": [
    "print(\"Dataset size:\", dataset.shape)\n",
    "\n",
    "#Modifying the maximum number of rows that pandas let to show\n",
    "with pd.option_context('display.max_rows', None, 'display.max_columns', None):\n",
    "   print(dataset.isnull().sum())"
   ],
   "metadata": {
    "collapsed": false,
    "ExecuteTime": {
     "start_time": "2023-12-31T00:04:12.076082Z",
     "end_time": "2023-12-31T00:04:13.785471Z"
    }
   }
  },
  {
   "cell_type": "markdown",
   "source": [
    "### DROPS"
   ],
   "metadata": {
    "collapsed": false
   }
  },
  {
   "cell_type": "markdown",
   "source": [
    "Attributes dropped:\n",
    "- ethnic: is not ethical to keep this attribute\n",
    "- numbcars: almost half of the dataset doesn't have this attribute\n",
    "- Customer_ID: it has not variance because is unique for each customer\n",
    "- ownrent, lor, dwlltype, HHstatin, dwllsize: They are NaN on 30% of the dataset"
   ],
   "metadata": {
    "collapsed": false
   }
  },
  {
   "cell_type": "code",
   "execution_count": null,
   "outputs": [],
   "source": [
    "datasetClean=dataset.drop(columns=[\"ethnic\", \"numbcars\", \"Customer_ID\", \"ownrent\", \"lor\", \"dwlltype\", \"HHstatin\", \"dwllsize\"])\n",
    "print(\"Dataset size:\", datasetClean.shape)"
   ],
   "metadata": {
    "collapsed": false,
    "ExecuteTime": {
     "start_time": "2023-12-31T00:04:13.802636Z",
     "end_time": "2023-12-31T00:04:13.949525Z"
    }
   }
  },
  {
   "cell_type": "markdown",
   "source": [
    "In order to code categorical attributes, object attributes need to be transform."
   ],
   "metadata": {
    "collapsed": false
   }
  },
  {
   "cell_type": "code",
   "execution_count": null,
   "outputs": [],
   "source": [
    "datasetClean.dtypes"
   ],
   "metadata": {
    "collapsed": false,
    "ExecuteTime": {
     "start_time": "2023-12-31T00:04:13.947654Z",
     "end_time": "2023-12-31T00:04:13.955125Z"
    }
   }
  },
  {
   "cell_type": "code",
   "execution_count": null,
   "outputs": [],
   "source": [
    "datasetClean.select_dtypes(include='object').columns"
   ],
   "metadata": {
    "collapsed": false,
    "ExecuteTime": {
     "start_time": "2023-12-31T00:04:13.957359Z",
     "end_time": "2023-12-31T00:04:14.137948Z"
    }
   }
  },
  {
   "cell_type": "markdown",
   "source": [
    "Object attributes which are numbers with \",\" are pass to floats and object with only numbers and more than 2 different numbers are convert to integer."
   ],
   "metadata": {
    "collapsed": false
   }
  },
  {
   "cell_type": "code",
   "execution_count": null,
   "outputs": [],
   "source": [
    "objectAttributesList = datasetClean.select_dtypes(include='object').columns\n",
    "#print(objectAttributesList)\n",
    "for column in objectAttributesList:\n",
    "   # Looking through all the column to see if there are one string with a number\n",
    "\n",
    "   if datasetClean[column].str.contains('\\d,').any():\n",
    "      # Casting column from string with \",\" to float with \".\"\n",
    "      datasetClean[column] = datasetClean[column].str.replace(',', '.').astype(float)\n",
    "\n",
    "   elif datasetClean[column].str.contains('\\d+').all() and len(datasetClean[column].unique()) > 2:\n",
    "      #If the values in the column are numbers and there are not binary, they are not categorical\n",
    "      datasetClean[column] = datasetClean[column].astype(int)"
   ],
   "metadata": {
    "collapsed": false,
    "ExecuteTime": {
     "start_time": "2023-12-31T00:04:14.161110Z",
     "end_time": "2023-12-31T00:04:37.205534Z"
    }
   }
  },
  {
   "cell_type": "markdown",
   "source": [
    "Now, only remains attributes which are categorical, binaries and labels"
   ],
   "metadata": {
    "collapsed": false
   }
  },
  {
   "cell_type": "code",
   "execution_count": null,
   "outputs": [],
   "source": [
    "datasetClean.select_dtypes(include='object').columns"
   ],
   "metadata": {
    "collapsed": false,
    "ExecuteTime": {
     "start_time": "2023-12-31T00:04:37.210976Z",
     "end_time": "2023-12-31T00:04:37.291217Z"
    }
   }
  },
  {
   "cell_type": "markdown",
   "source": [
    "A bit more data exploration. The objective of this part is to detect attributes where the difference between the number of people churning is significantly larger or smaller than those not churning.\n",
    "\n",
    "Relation between continuous attributes and churning:"
   ],
   "metadata": {
    "collapsed": false
   }
  },
  {
   "cell_type": "code",
   "execution_count": null,
   "outputs": [],
   "source": [
    "datasetClean.groupby('churn').mean()"
   ],
   "metadata": {
    "collapsed": false,
    "ExecuteTime": {
     "start_time": "2023-12-31T00:04:37.284627Z",
     "end_time": "2023-12-31T00:04:37.429407Z"
    }
   }
  },
  {
   "cell_type": "markdown",
   "source": [
    "There isn't any significant difference or gap. Let's explore some potentially interesting categorical labels."
   ],
   "metadata": {
    "collapsed": false
   }
  },
  {
   "cell_type": "code",
   "execution_count": null,
   "outputs": [],
   "source": [
    "pd.crosstab(datasetClean['creditcd'],datasetClean['churn']).plot(kind='bar')\n",
    "plt.title('Credit by chrun')\n",
    "plt.xlabel('creditcd')\n",
    "plt.ylabel('churn')"
   ],
   "metadata": {
    "collapsed": false,
    "ExecuteTime": {
     "start_time": "2023-12-31T00:04:37.440018Z",
     "end_time": "2023-12-31T00:04:38.171762Z"
    }
   }
  },
  {
   "cell_type": "code",
   "execution_count": null,
   "outputs": [],
   "source": [
    "pd.crosstab(datasetClean['marital'],datasetClean['churn']).plot(kind='bar')\n",
    "plt.title('marital by churn')\n",
    "plt.xlabel('marital')\n",
    "plt.ylabel('churn')"
   ],
   "metadata": {
    "collapsed": false,
    "ExecuteTime": {
     "start_time": "2023-12-31T00:04:38.173979Z",
     "end_time": "2023-12-31T00:04:39.767260Z"
    }
   }
  },
  {
   "cell_type": "code",
   "execution_count": null,
   "outputs": [],
   "source": [
    "pd.crosstab(datasetClean['area'],datasetClean['churn']).plot(kind='bar')\n",
    "plt.title('area by churn')\n",
    "plt.xlabel('area')\n",
    "plt.ylabel('churn')"
   ],
   "metadata": {
    "collapsed": false,
    "ExecuteTime": {
     "start_time": "2023-12-31T00:04:39.581115Z",
     "end_time": "2023-12-31T00:04:41.409827Z"
    }
   }
  },
  {
   "cell_type": "code",
   "execution_count": null,
   "outputs": [],
   "source": [
    "pd.crosstab(datasetClean['prizm_social_one'],datasetClean['churn']).plot(kind='bar')\n",
    "plt.title('prizm_social_one by churn')\n",
    "plt.xlabel('prizm_social_one')\n",
    "plt.ylabel('churn')"
   ],
   "metadata": {
    "collapsed": false,
    "ExecuteTime": {
     "start_time": "2023-12-31T00:04:41.404451Z",
     "end_time": "2023-12-31T00:04:42.139721Z"
    }
   }
  },
  {
   "cell_type": "code",
   "execution_count": null,
   "outputs": [],
   "source": [
    "pd.crosstab(datasetClean['hnd_webcap'],datasetClean['churn']).plot(kind='bar')\n",
    "plt.title('hnd_webcap by churn')\n",
    "plt.xlabel('hnd_webcap')\n",
    "plt.ylabel('churn')"
   ],
   "metadata": {
    "collapsed": false,
    "ExecuteTime": {
     "start_time": "2023-12-31T00:04:42.140159Z",
     "end_time": "2023-12-31T00:04:42.732851Z"
    }
   }
  },
  {
   "cell_type": "markdown",
   "source": [
    "All the labels in the different categorical attributes explored has more or less the same amount of churning and not churning people. Thus, seems to not be any significant relation.\n",
    "\n",
    "\n",
    "2 test cases exploration:\n",
    "- Dropping all the samples with NaN values.\n",
    "- Data insertion to substitute NaN values. Categorical attributes will use mode value and numerical median value."
   ],
   "metadata": {
    "collapsed": false
   }
  },
  {
   "cell_type": "markdown",
   "source": [
    "## DROPPING NAN'S\n"
   ],
   "metadata": {
    "collapsed": false
   }
  },
  {
   "cell_type": "code",
   "execution_count": null,
   "outputs": [],
   "source": [
    "#dropping all the samples with NaN\n",
    "dfDropNan=datasetClean.dropna()\n",
    "print(dfDropNan.shape)\n",
    "with pd.option_context('display.max_rows', None, 'display.max_columns', None):\n",
    "\n",
    "   print(dfDropNan.isnull().sum())"
   ],
   "metadata": {
    "collapsed": false,
    "ExecuteTime": {
     "start_time": "2023-12-31T00:04:42.976491Z",
     "end_time": "2023-12-31T00:04:43.302036Z"
    }
   }
  },
  {
   "cell_type": "markdown",
   "source": [
    "## INSERTION OF NUMBERS"
   ],
   "metadata": {
    "collapsed": false
   }
  },
  {
   "cell_type": "code",
   "execution_count": null,
   "outputs": [],
   "source": [
    "dfNanSubstituted=datasetClean.copy()\n",
    "\n",
    "#filling NaN in object categorical attributes\n",
    "columnCategorical=dfNanSubstituted.select_dtypes(include='object').columns\n",
    "for column in columnCategorical:\n",
    "   #Filling with the most common categorical value, the mode\n",
    "   dfNanSubstituted[column].fillna(dfNanSubstituted[column].mode()[0], inplace=True)\n",
    "\n",
    "#fillin NaN in not numerical object attributes\n",
    "notNumericalColumn=dfNanSubstituted.select_dtypes(exclude='object').columns\n",
    "for column in notNumericalColumn:\n",
    "   #Filling with the most common categorical value, the mode\n",
    "   dfNanSubstituted[column].fillna(dfNanSubstituted[column].median(), inplace=True)\n",
    "\n",
    "#Modifying the maximum number of rows that pandas let to show\n",
    "with pd.option_context('display.max_rows', None, 'display.max_columns', None):\n",
    "   print(dfNanSubstituted.isnull().sum())"
   ],
   "metadata": {
    "collapsed": false,
    "ExecuteTime": {
     "start_time": "2023-12-31T00:04:43.307925Z",
     "end_time": "2023-12-31T00:04:44.042479Z"
    }
   }
  },
  {
   "cell_type": "markdown",
   "source": [
    "## ATTRIBUTE CATEGORICAL CODIFICATION"
   ],
   "metadata": {
    "collapsed": false
   }
  },
  {
   "cell_type": "markdown",
   "source": [
    "Attributes object that remains are categorical. It is printed the name of the attribute and the number of unique values in each attribute. Also, categorical attributes are encoded.\n",
    "\n",
    "Coding dataset with data insertion:"
   ],
   "metadata": {
    "collapsed": false
   }
  },
  {
   "cell_type": "code",
   "execution_count": null,
   "outputs": [],
   "source": [
    "objectAttributesList = datasetClean.select_dtypes(include='object').columns\n",
    "categoricalAttributes=[]\n",
    "categoricalAttributes2=[]\n",
    "for column in objectAttributesList:\n",
    "\n",
    "   #categorical\n",
    "   if len(dfNanSubstituted[column].unique()) > 2:\n",
    "      oneshot_encoder = OneHotEncoder(sparse=False, handle_unknown='ignore')\n",
    "\n",
    "      #for data insertion test case\n",
    "      cadena=dfNanSubstituted[column].to_numpy().reshape(-1, 1)\n",
    "      dataNewColumns=oneshot_encoder.fit_transform(cadena)\n",
    "\n",
    "\n",
    "      #creation of a list with new names for new coded column\n",
    "      #The for loop is iterating inside the categories created by the encoder\n",
    "      categories=oneshot_encoder.categories_[0]\n",
    "      newColumnNameList=[f'{column}_{cat}' for cat in categories]\n",
    "\n",
    "      #saving names of categorical columns to calculate correlations after\n",
    "      categoricalAttributes=categoricalAttributes + newColumnNameList\n",
    "\n",
    "      newColumns=pd.DataFrame(dataNewColumns, columns=newColumnNameList)\n",
    "\n",
    "      #adding new columns and dropping categorical column that has been encoded\n",
    "      dfNanSubstituted=dfNanSubstituted.join(newColumns)\n",
    "      dfNanSubstituted.drop(columns=column, inplace=True)\n",
    "\n",
    "      #CODING WITH THE SAME ENCODER DATASET WITH NAN'S DROPPED\n",
    "      #--------------------------------------------------------------------------------------------\n",
    "\n",
    "       #for data insertion test case\n",
    "      cadena2=dfDropNan[column].to_numpy().reshape(-1, 1)\n",
    "      dataNewColumns2=oneshot_encoder.fit_transform(cadena2)\n",
    "\n",
    "\n",
    "      #creation of a list with new names for new coded column\n",
    "      #The for loop is iterating inside the categories created by the encoder\n",
    "      categories2=oneshot_encoder.categories_[0]\n",
    "      newColumnNameList2=[f'{column}_{cat}' for cat in categories2]\n",
    "\n",
    "\n",
    "      #saving names of categorical columns to calculate correlations after\n",
    "      categoricalAttributes2=categoricalAttributes2 + newColumnNameList2\n",
    "\n",
    "\n",
    "\n",
    "      newColumns2=pd.DataFrame(dataNewColumns2, columns=newColumnNameList2)\n",
    "\n",
    "      #if the index are NOT reset, it will generate rows with nan values\n",
    "      #because index from dataset and new columns doesn't match\n",
    "      dfDropNan.reset_index(drop=True, inplace=True)\n",
    "      newColumns2.reset_index(drop=True, inplace=True)\n",
    "\n",
    "      #adding new columns and dropping categorical column that has been encoded\n",
    "      dfDropNan=dfDropNan.join(newColumns2)\n",
    "      dfDropNan.drop(columns=column, inplace=True)\n",
    "\n",
    "\n",
    "   else:\n",
    "      #binary categorical encode\n",
    "      encoder = LabelEncoder()\n",
    "      dfNanSubstituted[column]=encoder.fit_transform(dfNanSubstituted[column])\n",
    "      #saving names of categorical columns to calculate correlations after\n",
    "      categoricalAttributes.append(column)\n",
    "\n",
    "       #CODING WITH THE SAME ENCODER DATASET WITH NAN'S DROPPED\n",
    "      #--------------------------------------------------------------------------------------------\n",
    "\n",
    "      dfDropNan[column]=encoder.fit_transform(dfDropNan[column])\n",
    "\n",
    "      #saving names of categorical columns to calculate correlations after\n",
    "      categoricalAttributes2.append(column)\n",
    "\n"
   ],
   "metadata": {
    "collapsed": false,
    "ExecuteTime": {
     "start_time": "2023-12-31T00:04:44.048267Z",
     "end_time": "2023-12-31T00:04:47.952606Z"
    }
   }
  },
  {
   "cell_type": "markdown",
   "source": [
    "Coding dataset with NaN dropped:"
   ],
   "metadata": {
    "collapsed": false
   }
  },
  {
   "cell_type": "code",
   "execution_count": null,
   "outputs": [],
   "source": [
    "# Convierte las listas a conjuntos\n",
    "set1 = set(categoricalAttributes)\n",
    "set2 = set(categoricalAttributes2)\n",
    "\n",
    "# Encuentra los elementos diferentes\n",
    "elementos_diferentes = set1.symmetric_difference(set2)\n",
    "\n",
    "# Imprime los elementos diferentes\n",
    "print(\"Elementos diferentes:\", list(elementos_diferentes))\n"
   ],
   "metadata": {
    "collapsed": false,
    "ExecuteTime": {
     "start_time": "2023-12-31T00:04:47.960309Z",
     "end_time": "2023-12-31T00:04:47.970880Z"
    }
   }
  },
  {
   "cell_type": "markdown",
   "source": [
    "## ATTRIBUTES SELECTION"
   ],
   "metadata": {
    "collapsed": false
   }
  },
  {
   "cell_type": "markdown",
   "source": [
    "### CORRELATIONS\n",
    "\n",
    "Correlations between categorical attributes and categorical attribute churn:"
   ],
   "metadata": {
    "collapsed": false
   }
  },
  {
   "cell_type": "code",
   "execution_count": null,
   "outputs": [],
   "source": [
    "corrCategorical={}\n",
    "for attribute in categoricalAttributes:\n",
    "   correlacion, p_valor = pointbiserialr(dfNanSubstituted[attribute], dfNanSubstituted['churn'])\n",
    "   corrCategorical[attribute]=correlacion\n",
    "   #print(f\"Correlación Punto Biserial para {attribute}: {correlacion:.4f}, p-valor: {p_valor:.4f}\")\n"
   ],
   "metadata": {
    "collapsed": false,
    "ExecuteTime": {
     "start_time": "2023-12-31T00:04:47.976347Z",
     "end_time": "2023-12-31T00:04:48.368105Z"
    }
   }
  },
  {
   "cell_type": "code",
   "execution_count": null,
   "outputs": [],
   "source": [
    "correlationMatrix=pd.DataFrame({\"churn\":corrCategorical.values()}, index=corrCategorical.keys())\n",
    "\n",
    "plt.figure(figsize=(10, 20))\n",
    "sns.heatmap(correlationMatrix, annot=True, fmt=\"g\", cmap='coolwarm')\n",
    "\n",
    "plt.show()"
   ],
   "metadata": {
    "collapsed": false,
    "ExecuteTime": {
     "start_time": "2023-12-31T00:04:48.382049Z",
     "end_time": "2023-12-31T00:04:51.624085Z"
    }
   }
  },
  {
   "cell_type": "markdown",
   "source": [],
   "metadata": {
    "collapsed": false
   }
  },
  {
   "cell_type": "markdown",
   "source": [
    "Correlation between continuous attributes and churn(categorical):"
   ],
   "metadata": {
    "collapsed": false
   }
  },
  {
   "cell_type": "code",
   "execution_count": null,
   "outputs": [],
   "source": [
    "def cramers_V(var1,var2) :\n",
    "  crosstab =np.array(pd.crosstab(var1,var2, rownames=None, colnames=None)) # Cross table building\n",
    "  stat = chi2_contingency(crosstab)[0] # Keeping of the test statistic of the Chi2 test\n",
    "  obs = np.sum(crosstab) # Number of observations\n",
    "  mini = min(crosstab.shape)-1 # Take the minimum value between the columns and the rows of the cross table\n",
    "  return np.sqrt(stat/(obs*mini))"
   ],
   "metadata": {
    "collapsed": false,
    "ExecuteTime": {
     "start_time": "2023-12-31T00:04:51.628875Z",
     "end_time": "2023-12-31T00:04:51.633887Z"
    }
   }
  },
  {
   "cell_type": "code",
   "execution_count": null,
   "outputs": [],
   "source": [
    "relevantAttributes={}\n",
    "nanSubs_X=dfNanSubstituted.drop(columns='churn')\n",
    "nanSubs_Y=dfNanSubstituted['churn']\n",
    "\n",
    "thresholdCorrelation=0.1\n",
    "\n",
    "for column in nanSubs_X.columns:\n",
    "\n",
    "   #we only calculate cramer_V of not categorical attributes\n",
    "   if column not in categoricalAttributes:\n",
    "      corr=cramers_V(nanSubs_X[column], nanSubs_Y)\n",
    "\n",
    "      if corr > thresholdCorrelation:\n",
    "         relevantAttributes[column]=corr\n",
    "         #print(column, corr)"
   ],
   "metadata": {
    "collapsed": false,
    "ExecuteTime": {
     "start_time": "2023-12-31T00:04:51.728511Z",
     "end_time": "2023-12-31T00:05:43.092712Z"
    }
   }
  },
  {
   "cell_type": "code",
   "execution_count": null,
   "outputs": [],
   "source": [
    "correlationMatrix=pd.DataFrame({\"churn\":relevantAttributes.values()}, index=relevantAttributes.keys())\n",
    "\n",
    "plt.figure(figsize=(10, 10))\n",
    "sns.heatmap(correlationMatrix, annot=True, fmt=\"g\", cmap='coolwarm')\n",
    "\n",
    "plt.show()\n"
   ],
   "metadata": {
    "collapsed": false,
    "ExecuteTime": {
     "start_time": "2023-12-31T00:05:43.143094Z",
     "end_time": "2023-12-31T00:05:44.338380Z"
    }
   }
  },
  {
   "cell_type": "markdown",
   "source": [
    "# MODEL SELECTION\n",
    "\n",
    "Now we try different models for the 2 test cases.\n",
    "\n",
    "DATASET WITH DATA INSERTIONS:"
   ],
   "metadata": {
    "collapsed": false
   }
  },
  {
   "cell_type": "code",
   "execution_count": null,
   "outputs": [],
   "source": [
    "attr_dataInsert=list(relevantAttributes.keys())\n",
    "X_dataInsert=dfNanSubstituted[attr_dataInsert]#.drop(columns=['comp_vce_Mean'])\n",
    "Y_dataInsert=dfNanSubstituted['churn']\n",
    "\n",
    "X_train_dataInsert, X_test_dataInsert, Y_train_dataInsert, Y_test_dataInsert = train_test_split(X_dataInsert, Y_dataInsert, test_size=0.8, random_state=42)"
   ],
   "metadata": {
    "collapsed": false,
    "ExecuteTime": {
     "start_time": "2023-12-31T00:05:44.348492Z",
     "end_time": "2023-12-31T00:05:44.772696Z"
    }
   }
  },
  {
   "cell_type": "markdown",
   "source": [
    "DATASET WITH NAN'S DROPPED:"
   ],
   "metadata": {
    "collapsed": false
   }
  },
  {
   "cell_type": "code",
   "execution_count": null,
   "outputs": [],
   "source": [
    "attr_dropNan=list(relevantAttributes.keys())\n",
    "dropNan_X=dfDropNan[attr_dropNan]\n",
    "dropNan_Y=dfDropNan['churn']\n",
    "\n",
    "X_train_dropNan, X_test_dropNan, Y_train_dropNan, Y_test_dropNan = train_test_split(dropNan_X, dropNan_Y, test_size=0.8, random_state=42)"
   ],
   "metadata": {
    "collapsed": false,
    "ExecuteTime": {
     "start_time": "2023-12-31T00:05:44.789499Z",
     "end_time": "2023-12-31T00:05:45.057067Z"
    }
   }
  },
  {
   "cell_type": "markdown",
   "source": [
    "### LOGISTIC REGRESSION"
   ],
   "metadata": {
    "collapsed": false
   }
  },
  {
   "cell_type": "markdown",
   "source": [
    "DATASET WITH DATA INSERTIONS:"
   ],
   "metadata": {
    "collapsed": false
   }
  },
  {
   "cell_type": "code",
   "execution_count": null,
   "outputs": [],
   "source": [
    "scaler = StandardScaler()\n",
    "X_train_scaled_dataInsert = scaler.fit_transform(X_train_dataInsert)\n",
    "X_test_scaled_dataInsert = scaler.transform(X_test_dataInsert)\n",
    "model = LogisticRegression()\n",
    "model.fit(X_train_scaled_dataInsert,Y_train_dataInsert)\n",
    "y_pred_dataInsert = model.predict(X_test_scaled_dataInsert)\n",
    "#Calculating recall, true positives\n",
    "recall_dataInsert = recall_score(Y_test_dataInsert, y_pred_dataInsert)\n",
    "print(recall_dataInsert)"
   ],
   "metadata": {
    "collapsed": false,
    "ExecuteTime": {
     "start_time": "2023-12-31T00:05:45.072538Z",
     "end_time": "2023-12-31T00:05:45.553894Z"
    }
   }
  },
  {
   "cell_type": "markdown",
   "source": [
    "DATASET WITH NAN'S DROPPED:"
   ],
   "metadata": {
    "collapsed": false
   }
  },
  {
   "cell_type": "code",
   "execution_count": null,
   "outputs": [],
   "source": [
    "scaler = StandardScaler()\n",
    "X_train_scaled_dropNan = scaler.fit_transform(X_train_dropNan)\n",
    "X_test_scaled = scaler.transform(X_test_dropNan)\n",
    "model = LogisticRegression()\n",
    "model.fit(X_train_scaled_dropNan, Y_train_dropNan)\n",
    "y_pred_dropNan = model.predict(X_test_scaled)\n",
    "#Calculating recall, true positives\n",
    "recall_dropNan = recall_score(Y_test_dropNan, y_pred_dropNan)\n",
    "print(recall_dropNan)"
   ],
   "metadata": {
    "collapsed": false,
    "ExecuteTime": {
     "start_time": "2023-12-31T00:05:45.555257Z",
     "end_time": "2023-12-31T00:05:45.885674Z"
    }
   }
  },
  {
   "cell_type": "markdown",
   "source": [
    "### DECISION TREE"
   ],
   "metadata": {
    "collapsed": false
   }
  },
  {
   "cell_type": "markdown",
   "source": [
    "DATASET WITH DATA INSERTIONS:"
   ],
   "metadata": {
    "collapsed": false
   }
  },
  {
   "cell_type": "code",
   "execution_count": null,
   "outputs": [],
   "source": [
    "tree_model_dataInsert = DecisionTreeClassifier(random_state=42)\n",
    "tree_model_dataInsert.fit(X_train_dataInsert, Y_train_dataInsert)\n",
    "y_pred_dataInsert = tree_model_dataInsert.predict(X_test_dataInsert)\n",
    "recall_dataInsert = recall_score(Y_test_dataInsert, y_pred_dataInsert)\n",
    "print(recall_dataInsert)"
   ],
   "metadata": {
    "collapsed": false,
    "ExecuteTime": {
     "start_time": "2023-12-31T00:05:45.895427Z",
     "end_time": "2023-12-31T00:05:47.266470Z"
    }
   }
  },
  {
   "cell_type": "markdown",
   "source": [
    "DATASET WITH NAN'S DROPPED:"
   ],
   "metadata": {
    "collapsed": false
   }
  },
  {
   "cell_type": "code",
   "execution_count": null,
   "outputs": [],
   "source": [
    "tree_model = DecisionTreeClassifier(random_state=42)\n",
    "tree_model.fit(X_train_dropNan, Y_train_dropNan)\n",
    "y_pred_dropNan = tree_model.predict(X_test_dropNan)\n",
    "recall_dropNan = recall_score(Y_test_dropNan, y_pred_dropNan)\n",
    "print(recall_dropNan)"
   ],
   "metadata": {
    "collapsed": false
   }
  },
  {
   "cell_type": "markdown",
   "source": [
    "### RANDOME FOREST\n",
    "- **Assembly type:** Bagging.\n",
    "- **Basis of the algorithm:** Decision trees.\n",
    "- **Process:** Create multiple decision trees and combine their predictions through voting. The idea is to reduce variance and avoid overfitting."
   ],
   "metadata": {
    "collapsed": false
   }
  },
  {
   "cell_type": "markdown",
   "source": [
    "DATASET WITH DATA INSERTIONS:"
   ],
   "metadata": {
    "collapsed": false
   }
  },
  {
   "cell_type": "code",
   "execution_count": null,
   "outputs": [],
   "source": [
    "# Creation and training\n",
    "rf_classifier_dataInsert = RandomForestClassifier(n_estimators=100, random_state=42)\n",
    "rf_classifier_dataInsert.fit(X_train_dataInsert, Y_train_dataInsert)\n",
    "\n",
    "\n",
    "y_pred_dataInsert = rf_classifier_dataInsert.predict(X_test_dataInsert)\n",
    "\n",
    "recall_dataInsert = recall_score(Y_test_dataInsert, y_pred_dataInsert)\n",
    "print(recall_dataInsert)\n"
   ],
   "metadata": {
    "collapsed": false,
    "ExecuteTime": {
     "start_time": "2023-12-31T00:05:48.023604Z",
     "end_time": "2023-12-31T00:05:59.952715Z"
    }
   }
  },
  {
   "cell_type": "markdown",
   "source": [
    "DATASET WITH NAN'S DROPPED:"
   ],
   "metadata": {
    "collapsed": false
   }
  },
  {
   "cell_type": "code",
   "execution_count": null,
   "outputs": [],
   "source": [
    "rf_classifier2_dropNan = RandomForestClassifier(n_estimators=100, random_state=42)\n",
    "rf_classifier2_dropNan.fit(X_train_dropNan, Y_train_dropNan)\n",
    "\n",
    "y_pred_dropNan = rf_classifier2_dropNan.predict(X_test_dropNan)\n",
    "\n",
    "recall_dropNan = recall_score(Y_test_dropNan, y_pred_dropNan)\n",
    "print(recall_dropNan)"
   ],
   "metadata": {
    "collapsed": false,
    "ExecuteTime": {
     "start_time": "2023-12-31T00:05:59.949103Z",
     "end_time": "2023-12-31T00:06:07.912678Z"
    }
   }
  },
  {
   "cell_type": "markdown",
   "source": [
    "## ASSEMBLY ALGORITHMS\n",
    "\n",
    "The current recall result is better with the test case involving data insertion. Additionally, the highest recall score has been achieved using Random Forest. Following these results, various ensemble algorithms will be explored, apart from Random Forest, using the dataset split that includes data insertion."
   ],
   "metadata": {
    "collapsed": false
   }
  },
  {
   "cell_type": "markdown",
   "source": [
    "### ADA BOOST CLASSIFIER\n",
    "- **Assembly type:** Boosting.\n",
    "- **Basis of the algorithm:** Weak decision trees (generally shallow trees).\n",
    "- **Process:** Iteratively trains weak models, assigning more weight to poorly classified instances in each iteration. Thus, it focuses on difficult cases and improves the performance of the model."
   ],
   "metadata": {
    "collapsed": false
   }
  },
  {
   "cell_type": "code",
   "execution_count": null,
   "outputs": [],
   "source": [
    "ada_classifier_dataInsert = AdaBoostClassifier(n_estimators=100, random_state=42)\n",
    "ada_classifier_dataInsert.fit(X_train_dataInsert, Y_train_dataInsert)\n",
    "\n",
    "y_pred_dataInsert = ada_classifier_dataInsert.predict(X_test_dataInsert)\n",
    "\n",
    "recall_dataInsert = recall_score(Y_test_dataInsert, y_pred_dataInsert)\n",
    "print(recall_dataInsert)"
   ],
   "metadata": {
    "collapsed": false,
    "ExecuteTime": {
     "start_time": "2023-12-31T00:06:07.920332Z",
     "end_time": "2023-12-31T00:06:19.467917Z"
    }
   }
  },
  {
   "cell_type": "markdown",
   "source": [
    "### GRADIENT BOOSTING CLASSIFIER\n",
    "- **Assembly type:** Boosting.\n",
    "- **Basis of the algorithm:** Decision trees (usually shallow trees).\n",
    "- **Process:** Unlike AdaBoost, Gradient Boosting optimizes the model by directly minimizing the loss function. Each tree fits the residuals (difference between predictions and actual labels) of the existing model."
   ],
   "metadata": {
    "collapsed": false
   }
  },
  {
   "cell_type": "code",
   "execution_count": null,
   "outputs": [],
   "source": [
    "gb_classifier_dataInsert = GradientBoostingClassifier(n_estimators=100, random_state=42)\n",
    "gb_classifier_dataInsert.fit(X_train_dataInsert, Y_train_dataInsert)\n",
    "y_pred_dataInsert = gb_classifier_dataInsert.predict(X_test_dataInsert)\n",
    "\n",
    "recall_dataInsert = recall_score(Y_test_dataInsert, y_pred_dataInsert)\n",
    "print(recall_dataInsert)"
   ],
   "metadata": {
    "collapsed": false,
    "ExecuteTime": {
     "start_time": "2023-12-31T00:06:19.478052Z",
     "end_time": "2023-12-31T00:06:43.342010Z"
    }
   }
  },
  {
   "cell_type": "markdown",
   "source": [
    "### EXTRA TREES CLASSIFIER\n",
    "- **Assembly type:** Bagging.\n",
    "- **Basis of the algorithm:** Decision trees.\n",
    "- **Process:** Similar to RandomForest, but with additional randomization. Instead of searching for the best threshold to split features, ExtraTrees randomly selects thresholds."
   ],
   "metadata": {
    "collapsed": false
   }
  },
  {
   "cell_type": "code",
   "execution_count": null,
   "outputs": [],
   "source": [
    "et_classifier_dataInsert = ExtraTreesClassifier(n_estimators=100, random_state=42)\n",
    "et_classifier_dataInsert.fit(X_train_dataInsert, Y_train_dataInsert)\n",
    "y_pred_dataInsert = et_classifier_dataInsert.predict(X_test_dataInsert)\n",
    "\n",
    "recall_dataInsert = recall_score(Y_test_dataInsert, y_pred_dataInsert)\n",
    "print(recall_dataInsert)"
   ],
   "metadata": {
    "collapsed": false,
    "ExecuteTime": {
     "start_time": "2023-12-31T00:06:43.348151Z",
     "end_time": "2023-12-31T00:06:50.458549Z"
    }
   }
  },
  {
   "cell_type": "markdown",
   "source": [
    "# MODEL EVALUATION\n",
    "\n",
    "Gradient Boosting Classifier is the best option as it has a bigger recall score.\n",
    "\n",
    "Now, an evaluation of the importance of each feature from the Gradient Boosting Classifier point of view:"
   ],
   "metadata": {
    "collapsed": false
   }
  },
  {
   "cell_type": "code",
   "execution_count": null,
   "outputs": [],
   "source": [
    "#creatin  a list with the importance assigned by Gradient Boosting Classifier\n",
    "importance=gb_classifier_dataInsert.feature_importances_\n",
    "\n",
    "#creating a dictionary with the name and the importance of each attribute used to train\n",
    "dictImportance=dict(zip(attr_dataInsert, importance))\n",
    "\n",
    "# sorting the dictionary in ascending order\n",
    "dictImportanceSorted = dict(sorted(dictImportance.items(), key=lambda item: item[1], reverse=True))\n",
    "\n",
    "#list to save features or attributes with less importance\n",
    "notImportant=[]\n",
    "important=[]\n",
    "thresholdImportance=0.025\n",
    "print(\"Important features:\")\n",
    "for key in dictImportanceSorted.keys():\n",
    "\n",
    "   if dictImportanceSorted[key] < thresholdImportance:\n",
    "      notImportant.append(key)\n",
    "   else:\n",
    "      important.append(key)\n",
    "      print(key,\":\",dictImportanceSorted[key])\n"
   ],
   "metadata": {
    "collapsed": false,
    "ExecuteTime": {
     "start_time": "2024-01-01T15:09:50.367580Z",
     "end_time": "2024-01-01T15:09:50.441450Z"
    }
   }
  },
  {
   "cell_type": "markdown",
   "source": [
    "Less important attributes:"
   ],
   "metadata": {
    "collapsed": false
   }
  },
  {
   "cell_type": "code",
   "execution_count": null,
   "outputs": [],
   "source": [
    "print(notImportant)"
   ],
   "metadata": {
    "collapsed": false,
    "ExecuteTime": {
     "start_time": "2023-12-31T18:26:57.780262Z",
     "end_time": "2023-12-31T18:26:57.786559Z"
    }
   }
  },
  {
   "cell_type": "markdown",
   "source": [
    "Trying new training with a new data split without less important attributes."
   ],
   "metadata": {
    "collapsed": false
   }
  },
  {
   "cell_type": "code",
   "execution_count": null,
   "outputs": [],
   "source": [
    "attr_dropNan=list(relevantAttributes.keys())\n",
    "dropNan_X=dfDropNan[attr_dropNan].drop(columns=notImportant)\n",
    "dropNan_Y=dfDropNan['churn']\n",
    "\n",
    "X_train_dropNan, X_test_dropNan, Y_train_dropNan, Y_test_dropNan = train_test_split(dropNan_X, dropNan_Y, test_size=0.8, random_state=42)\n",
    "\n",
    "gb_classifier_dataInsert = GradientBoostingClassifier(n_estimators=100, random_state=42)\n",
    "gb_classifier_dataInsert.fit(X_train_dataInsert, Y_train_dataInsert)\n",
    "y_pred_dataInsert = gb_classifier_dataInsert.predict(X_test_dataInsert)\n",
    "\n",
    "recall_dataInsert = recall_score(Y_test_dataInsert, y_pred_dataInsert)\n",
    "print(\"Recall: \" + str(recall_dataInsert))\n",
    "print(\"Most import features:\",dropNan_X.columns)"
   ],
   "metadata": {
    "collapsed": false,
    "ExecuteTime": {
     "start_time": "2023-12-31T18:26:59.581461Z",
     "end_time": "2023-12-31T18:27:18.965557Z"
    }
   }
  },
  {
   "cell_type": "code",
   "execution_count": null,
   "outputs": [],
   "source": [
    "logit_roc_auc = roc_auc_score(Y_test_dataInsert, gb_classifier_dataInsert.predict(X_test_dataInsert))\n",
    "fpr, tpr, thresholds = roc_curve(Y_test_dataInsert, gb_classifier_dataInsert.predict_proba(X_test_dataInsert)[:,1])\n",
    "plt.figure()\n",
    "plt.plot(fpr, tpr, label='Logistic Regression (area = %0.2f)' % logit_roc_auc)\n",
    "plt.plot([0, 1], [0, 1],'r--')\n",
    "plt.xlim([0.0, 1.0])\n",
    "plt.ylim([0.0, 1.05])\n",
    "plt.xlabel('False Positive Rate')\n",
    "plt.ylabel('True Positive Rate')\n",
    "plt.title('Receiver operating characteristic')\n",
    "plt.legend(loc=\"lower right\")\n",
    "#plt.savefig('Log_ROC')\n",
    "plt.show()"
   ],
   "metadata": {
    "collapsed": false,
    "ExecuteTime": {
     "start_time": "2023-12-31T18:21:47.350457Z",
     "end_time": "2023-12-31T18:21:49.908889Z"
    }
   }
  },
  {
   "cell_type": "code",
   "execution_count": null,
   "outputs": [],
   "source": [
    "# adjusting figure size\n",
    "sns.set(rc={'figure.figsize':(20,12)}) # width=10, height=6\n",
    "\n",
    "# creating distribution plot\n",
    "ax=sns.histplot(dataset, x=\"eqpdays\", hue=\"churn\")\n",
    "\n",
    "#plt.savefig('distribution2.png')"
   ],
   "metadata": {
    "collapsed": false,
    "ExecuteTime": {
     "start_time": "2023-12-31T20:23:39.837592Z",
     "end_time": "2023-12-31T20:23:44.748083Z"
    }
   }
  },
  {
   "cell_type": "markdown",
   "source": [
    "Starting from the highest peak in the distribution of the variable 'eqpdays,' it is evident that the number of people who churn is consistently larger than those who do not. Getting the range of days of the container in the distribution when starts to be more people churning than not churning."
   ],
   "metadata": {
    "collapsed": false
   }
  },
  {
   "cell_type": "code",
   "execution_count": null,
   "outputs": [],
   "source": [
    "indexMax=np.argmax(ax.containers[0].datavalues)\n",
    "rangeValues=[ax.containers[0][indexMax].xy[0], ax.containers[0][indexMax+1].xy[0]]\n",
    "print(rangeValues)"
   ],
   "metadata": {
    "collapsed": false,
    "ExecuteTime": {
     "start_time": "2023-12-31T20:27:20.078985Z",
     "end_time": "2023-12-31T20:27:34.295811Z"
    }
   }
  },
  {
   "cell_type": "code",
   "execution_count": null,
   "outputs": [],
   "source": [
    "sns.set(rc={'figure.figsize':(10,6)}) # width=10, height=6\n",
    "\n",
    "ax=sns.histplot(dataset, x=\"months\", hue=\"churn\")"
   ],
   "metadata": {
    "collapsed": false,
    "ExecuteTime": {
     "start_time": "2024-01-01T14:58:41.577826Z",
     "end_time": "2024-01-01T14:58:43.721864Z"
    }
   }
  },
  {
   "cell_type": "code",
   "execution_count": null,
   "outputs": [],
   "source": [
    "indexMax=np.argmax(ax.containers[0].datavalues)\n",
    "rangeValues=[ax.containers[0][indexMax].xy[0], ax.containers[0][indexMax+1].xy[0]]\n",
    "print(rangeValues)"
   ],
   "metadata": {
    "collapsed": false,
    "ExecuteTime": {
     "start_time": "2024-01-01T14:58:45.911633Z",
     "end_time": "2024-01-01T14:58:45.935667Z"
    }
   }
  },
  {
   "cell_type": "markdown",
   "source": [
    "# CONCLUSION\n",
    "\n",
    "Best results obtained doing data insertion, using Gradient Boosting Classifier. The most important feature to predict churning is the Number of days (age) of current equipment(eqpdays) with a 26% of importance base in Gradient boosting Classifier. The second most important (16%) feature is Total number of months in service(months).\n",
    "\n",
    "Important features:\n",
    "eqpdays : 21.24% (Number of days (age) of current equipment)\n",
    "months : 16.14% (Total number of months in service)\n",
    "change_mou : 6.67% (Percentage change in monthly minutes of use vs the previous three-month average)\n",
    "mou_Mean : 6.56% (Mean number of monthly minutes of use)\n",
    "totmrc_Mean : 6.49% (Mean total monthly recurring charge)\n",
    "avgqty : 3.84% (Average monthly number of calls over the life of the customer)\n",
    "hnd_price : 3.59% (Current handset price)\n",
    "mou_cvce_Mean : 3.46% (Mean unrounded minutes of use of completed voice calls)\n",
    "avgrev : 3.16% (Average monthly revenue over the life of the customer)\n",
    "change_rev : 3.09% (Percentage change in monthly revenue vs the previous three-month average)\n",
    "cc_mou_Mean : 2.67% (Mean unrounded minutes of use of customer care calls)\n",
    "\n",
    "\n",
    "It seems that the most important features for churning are related to the topic of the equipment, minutes of calls and the revenue from the client. As it is possible to see below, there are increasing correlations between this features and churning."
   ],
   "metadata": {
    "collapsed": false
   }
  },
  {
   "cell_type": "code",
   "execution_count": null,
   "outputs": [],
   "source": [
    "relevantAttributes={}\n",
    "nanSubs_X=dfNanSubstituted[important]\n",
    "nanSubs_Y=dfNanSubstituted['churn']\n",
    "\n",
    "thresholdCorrelation=0.1\n",
    "\n",
    "for column in nanSubs_X.columns:\n",
    "\n",
    "   #we only calculate cramer_V of not categorical attributes\n",
    "   if column not in categoricalAttributes:\n",
    "      corr=cramers_V(nanSubs_X[column], nanSubs_Y)\n",
    "\n",
    "      if corr > thresholdCorrelation:\n",
    "         relevantAttributes[column]=corr\n"
   ],
   "metadata": {
    "collapsed": false,
    "ExecuteTime": {
     "start_time": "2024-01-01T16:05:29.561884Z",
     "end_time": "2024-01-01T16:05:36.587027Z"
    }
   }
  },
  {
   "cell_type": "code",
   "execution_count": 378,
   "outputs": [
    {
     "data": {
      "text/plain": "<Figure size 500x500 with 2 Axes>",
      "image/png": "[encoded data removed]"
     },
     "metadata": {},
     "output_type": "display_data"
    }
   ],
   "source": [
    "correlationMatrix=pd.DataFrame({\"churn\":relevantAttributes.values()}, index=relevantAttributes.keys())\n",
    "\n",
    "plt.figure(figsize=(5, 5))\n",
    "sns.heatmap(correlationMatrix, annot=True, fmt=\"g\", cmap='coolwarm')\n",
    "\n",
    "plt.show()"
   ],
   "metadata": {
    "collapsed": false,
    "ExecuteTime": {
     "start_time": "2024-01-01T16:05:58.379323Z",
     "end_time": "2024-01-01T16:06:01.325600Z"
    }
   }
  },
  {
   "cell_type": "code",
   "execution_count": null,
   "outputs": [],
   "source": [],
   "metadata": {
    "collapsed": false
   }
  }
 ],
 "metadata": {
  "kernelspec": {
   "display_name": "Python 3",
   "language": "python",
   "name": "python3"
  },
  "language_info": {
   "codemirror_mode": {
    "name": "ipython",
    "version": 2
   },
   "file_extension": ".py",
   "mimetype": "text/x-python",
   "name": "python",
   "nbconvert_exporter": "python",
   "pygments_lexer": "ipython2",
   "version": "2.7.6"
  }
 },
 "nbformat": 4,
 "nbformat_minor": 0
}
